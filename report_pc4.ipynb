{
 "cells": [
  {
   "cell_type": "markdown",
   "id": "051f74f2",
   "metadata": {},
   "source": [
    "# Project Report - TD 4 - Topological Persistence\n"
   ]
  },
  {
   "cell_type": "markdown",
   "id": "068170ee",
   "metadata": {},
   "source": [
    "*by Joseph DE ROFFIGNAC and Ten NGUYEN HANAOKA* "
   ]
  },
  {
   "cell_type": "markdown",
   "id": "c67dd0b6",
   "metadata": {},
   "source": [
    "The purpose of this notebook is to address all the exercises from Lab Session 4 (INF556 – TD4), which focuses on implementing an algorithm to compute persistent homology with coefficients in the field ℤ/2ℤ (also denoted ℤ₂), and on testing it across various filtrations. This Jupyter Notebook basically contains all the answers of the questions, the code and our analysis of the problem.\n",
    "\n",
    "Additionnally : \n",
    "* The folder <i>filtrations</i> contains all the filtrations of the TD in their .txt format\n",
    "* the file <i>utils.py</i> contains some useful functions\n",
    "* the folder <i>img</i> contains the diagram of triangulations we designed for some objects of the TD "
   ]
  },
  {
   "cell_type": "markdown",
   "id": "efff3889",
   "metadata": {},
   "source": [
    "---\n",
    "# Introduction"
   ]
  },
  {
   "cell_type": "markdown",
   "id": "0c21908f",
   "metadata": {},
   "source": [
    "Let's start with some imports"
   ]
  },
  {
   "cell_type": "code",
   "execution_count": 1,
   "id": "46d193d0",
   "metadata": {},
   "outputs": [
    {
     "name": "stdout",
     "output_type": "stream",
     "text": [
      "Requirement already satisfied: tqdm in /opt/anaconda3/envs/CSC_Topological_data_analysis/lib/python3.12/site-packages (4.67.1)\n",
      "Note: you may need to restart the kernel to use updated packages.\n",
      "Requirement already satisfied: plotly in /opt/anaconda3/envs/CSC_Topological_data_analysis/lib/python3.12/site-packages (6.3.1)\n",
      "Requirement already satisfied: narwhals>=1.15.1 in /opt/anaconda3/envs/CSC_Topological_data_analysis/lib/python3.12/site-packages (from plotly) (2.9.0)\n",
      "Requirement already satisfied: packaging in /opt/anaconda3/envs/CSC_Topological_data_analysis/lib/python3.12/site-packages (from plotly) (25.0)\n",
      "Note: you may need to restart the kernel to use updated packages.\n"
     ]
    }
   ],
   "source": [
    "%pip install tqdm\n",
    "%pip install plotly"
   ]
  },
  {
   "cell_type": "code",
   "execution_count": 2,
   "id": "f4a898ca",
   "metadata": {},
   "outputs": [],
   "source": [
    "import sys\n",
    "import time\n",
    "import matplotlib.pyplot as plt\n",
    "from tqdm import tqdm\n",
    "from utils import read_filtration, plot_barcodes"
   ]
  },
  {
   "cell_type": "markdown",
   "id": "fe950973",
   "metadata": {},
   "source": [
    "\n",
    "We import the <i>read_filtration</i> functions, which allow us to read the text files from the filtrations folder, as well as the <i>plot_barcodes</i> function to display the obtained barcodes.\n",
    "\n",
    "We decided to replace the Simplex class with a lighter version using dicts. Thus, a simplex is just a dict with items : \n",
    "* val (float): the time of appearance in the filtration\n",
    "* dim (int): the dimension of the simplex\n",
    "* vert (set[int]): the set of vertex IDs (integers).\n",
    "\n",
    "In addition, a <i>read_filtration</i> function in utils.py is available, which takes a filename (str) as input and returns a filtration represented as a list of simplices.\n",
    "\n",
    "\n",
    "An example of how to use <i>read_filtration</i> is given just below (filtration_test is the initial filtration from the TD):"
   ]
  },
  {
   "cell_type": "code",
   "execution_count": 3,
   "id": "6284971c",
   "metadata": {},
   "outputs": [
    {
     "name": "stdout",
     "output_type": "stream",
     "text": [
      "{'time': 1.0, 'dim': 0, 'vert': {2}}\n",
      "{'time': 1.0, 'dim': 0, 'vert': {4}}\n",
      "{'time': 1.0, 'dim': 0, 'vert': {1}}\n",
      "{'time': 2.0, 'dim': 1, 'vert': {2, 4}}\n",
      "{'time': 2.0, 'dim': 1, 'vert': {1, 2}}\n",
      "{'time': 3.0, 'dim': 0, 'vert': {7}}\n",
      "{'time': 4.0, 'dim': 1, 'vert': {4, 7}}\n",
      "{'time': 4.0, 'dim': 1, 'vert': {1, 7}}\n",
      "{'time': 5.0, 'dim': 1, 'vert': {1, 4}}\n",
      "{'time': 6.0, 'dim': 2, 'vert': {1, 4, 7}}\n"
     ]
    }
   ],
   "source": [
    "filtration = read_filtration(\"filtrations/filtration_test.txt\")\n",
    "for simplex in filtration:\n",
    "    print(simplex)"
   ]
  },
  {
   "cell_type": "markdown",
   "id": "3e7894f1",
   "metadata": {},
   "source": [
    "To simplify our process, we've added a line in <i>read_filtration</i>, that outputs a time sorted filtration."
   ]
  },
  {
   "cell_type": "markdown",
   "id": "122368d2",
   "metadata": {},
   "source": [
    "---\n",
    "# 1. Boundary matrix"
   ]
  },
  {
   "cell_type": "markdown",
   "id": "0ba00b35",
   "metadata": {},
   "source": [
    "**Question 1** : Compute the boundary matrix B of the filtration from the vector of simplices F. "
   ]
  },
  {
   "cell_type": "markdown",
   "id": "573624d6",
   "metadata": {},
   "source": [
    "We opted for a sparse representation of the boundary matrix: a Python list of sets indexed by the columns of the matrix \\(j\\). Formally:  \n",
    "\n",
    "$$\n",
    "B[j] = \\{\\, i \\in \\{0, 1, \\dots, m-1\\} \\;|\\; b_{i,j} = 1 \\,\\}, \\quad j \\in \\{0, 1, \\dots, m-1\\}\n",
    "$$\n",
    "\n",
    "where $(b_{i,j}) \\in \\mathcal{M}_m(\\mathbb{Z}_2)$ is the boundary matrix.  \n",
    "\n",
    "The advantages are as follows:  \n",
    "\n",
    "- Memory complexity is linear in the number of 1s in $b$, which in practice is often $O(m)$ or $o(m^2)$.  \n",
    "- Using Python sets allows efficient computation of symmetric differences between columns during the matrix reduction algorithm (see Q2).\n"
   ]
  },
  {
   "cell_type": "code",
   "execution_count": 4,
   "id": "274da6f5",
   "metadata": {},
   "outputs": [
    {
     "name": "stdout",
     "output_type": "stream",
     "text": [
      "[set(), set(), set(), {0, 1}, {0, 2}, set(), {1, 5}, {2, 5}, {1, 2}, {8, 6, 7}]\n"
     ]
    }
   ],
   "source": [
    "def boundary_matrix(filtration: list[dict]) -> list[set[int]]:\n",
    "    \n",
    "    # Dictionnaire : clé = frozenset(vertices), valeur = index dans la filtration\n",
    "    index_map = {frozenset(s[\"vert\"]): i for i, s in enumerate(filtration)}\n",
    "\n",
    "    n = len(filtration)\n",
    "    boundary = [set() for _ in range(n)]\n",
    "\n",
    "    for j, simplex in enumerate(filtration):\n",
    "        verts = simplex[\"vert\"]\n",
    "        dim = simplex[\"dim\"]\n",
    "\n",
    "        # Génération des faces en retirant un sommet\n",
    "        if dim > 0:\n",
    "            for v in verts:\n",
    "                face = frozenset(verts - {v})\n",
    "                i = index_map.get(face)\n",
    "                if i is not None:\n",
    "                    boundary[j].add(i)\n",
    "\n",
    "    return boundary\n",
    "\n",
    "print(boundary_matrix(filtration))"
   ]
  },
  {
   "cell_type": "markdown",
   "id": "b1ef148f",
   "metadata": {},
   "source": [
    "To create the boundary matrix, one could iterate over $i$ and $j$ from $1$ to $m$ and test whether $\\sigma_i$ is a face of $\\sigma_j$, but the complexity would be far too high with this naive algorithm: $\\Omega(m^2)$.\n",
    "\n",
    "However, given a simplex $\\sigma_j = [v_0, \\dots, v_r]$, there are actually very few simplices $\\sigma_i$ that could be a face: they are simply\n",
    "\n",
    "$$\n",
    "[v_0, \\dots, \\hat{v_k}, \\dots, v_r], \\quad k = 0, \\dots, r\n",
    "$$\n",
    "\n",
    "Consequently, it suffices to store the simplices and their indices in a dictionary\n",
    "\n",
    "$$\n",
    "\\text{index\\_map} = \\{\\text{vertices} \\mapsto \\text{index}\\}\n",
    "$$\n",
    "\n",
    "(using the immutable type frozenset).  \n",
    "\n",
    "For each simplex $\\sigma_j$, we simply retrieve the indices $i$ of these faces (which are necessarily in the filtration since we are in a simplicial complex).\n",
    "\n",
    "Regarding complexity:\n",
    "\n",
    "- Line 4: creation of the index dictionary in $O(m)$  \n",
    "- Line 9: traversal of the $m$ simplices  \n",
    "    - For each simplex $\\sigma$, the time complexity is $O(\\dim(\\sigma))$ (Line 15).  \n",
    "      If the dimension of simplices is bounded (in practice in this assignment we do not exceed dimension 3), each simplex is processed in constant time.  \n",
    "    - In the case where the dimensions $d$ of simplices can be arbitrarily large, note that a simplex of dimension $d$ has $2^d - 1$ faces. Hence, $d_{\\max} = O(\\log m)$.\n",
    "\n",
    "**Conclusion:** The complexity of boundary_matrix is linear in this assignment (and quasi-linear in very few cases, e.g., for balls $\\mathbb{B}_d$ and spheres $\\mathbb{S}_d$).\n"
   ]
  },
  {
   "cell_type": "markdown",
   "id": "96c4d2c2",
   "metadata": {},
   "source": [
    "---\n",
    "# 2. Reduction algorithm"
   ]
  },
  {
   "cell_type": "markdown",
   "id": "41a23b10",
   "metadata": {},
   "source": [
    "**Question 2**  : Implement the reduction algorithm for your representation of the boundary matrix. Evaluate its complexity."
   ]
  },
  {
   "cell_type": "markdown",
   "id": "fde2f2dc",
   "metadata": {},
   "source": [
    "We implement the classical Gaussian-elimination algorithm seen during the lecture."
   ]
  },
  {
   "cell_type": "code",
   "execution_count": 5,
   "id": "f9eb3d6b",
   "metadata": {},
   "outputs": [],
   "source": [
    "def reduce_boundary_matrix(boundary : list[set[int]]) -> list[set[int]]:\n",
    "    \n",
    "    reduced_boundary = boundary.copy()\n",
    "    m = len(reduced_boundary)\n",
    "\n",
    "    pivots = {}\n",
    "\n",
    "    for j in range(m):\n",
    "\n",
    "        low_j = max(reduced_boundary[j]) if reduced_boundary[j] else -1\n",
    "        while low_j != -1 and low_j in pivots:\n",
    "\n",
    "            i = pivots[low_j]\n",
    "\n",
    "            # Perform column addition (mod 2) : XOR\n",
    "            reduced_boundary[j] = set(reduced_boundary[j]) ^ set(reduced_boundary[i])\n",
    "            low_j = max(reduced_boundary[j]) if reduced_boundary[j] else -1\n",
    "        if low_j != -1:\n",
    "            pivots[low_j] = j\n",
    "\n",
    "    return reduced_boundary\n"
   ]
  },
  {
   "cell_type": "markdown",
   "id": "2bbc53e4",
   "metadata": {},
   "source": [
    "**Question 3** Reduce the complexity of the reduction to $O(m^3)$ in the worst case, and to $O(m)$ in cases where the matrix remains sparse throughout, where m is the number of simplices in the filtration. Argue that your code does have the desired worst-case and best-case complexities."
   ]
  },
  {
   "cell_type": "markdown",
   "id": "06d4aac2",
   "metadata": {},
   "source": [
    "Let $m$ be the number of simplices (columns in the boundary matrix).\n",
    "\n",
    "The algorithm iterates over each column of the boundary matrix. \n",
    "1) For each column, it repeatedly eliminates its pivot by XOR-ing with previously reduced columns until the column's pivot is unique.\n",
    "2) Each column stores indices of nonzero entries (faces) as a set.\n",
    "\n",
    "Let's first compute the worse-case complexity.\n",
    "For each column $j$, let's denote $c_j$ the number of nonzero entries. Computing the pivot and performing a symmetric difference with another column takes each time $\\mathcal{O}(c_k+c_i)$ where $c_i$ is the number of nonzero entries in column $i$ that we XOR-ed with.\n",
    "In the worst-case, each column may be XOR-ed with all previous columns, and hence $\\mathcal{O}(m)$ operations per column.\n",
    "We are repeating this inner loop for all columns, so we get a total complexity of : \n",
    "$$\\mathcal{O}(m)\\cdot\\mathcal{O}(m)\\cdot\\mathcal{O}(m) = \\mathcal{O}(m^3)$$\n",
    "\n",
    "\n",
    "Now if we consider the sparse matrix case : \n",
    "If the matrix remains sparse, for each of the $m$ columns, we check its pivot. Finding the pivot (the largest index) is $\\mathcal{O}(1)$ since the column is small. \n",
    "Each column is XOR-ed with a previously reduced column only if there is a pivot conflict.  \n",
    "We suppose that in a sparse matrix, the chance of pivot conflict is low, so typically only a constant number of XORs are needed per column. \n",
    "Each column costs $\\mathcal{O}(1)$  for pivot detection and reduction. With $m$ columns, total operations: $\\mathcal{O}(m).$ "
   ]
  },
  {
   "cell_type": "markdown",
   "id": "219da3db",
   "metadata": {},
   "source": [
    "---"
   ]
  },
  {
   "cell_type": "markdown",
   "id": "48e63475",
   "metadata": {},
   "source": [
    "**Question 4** Write a function that outputs the barcode from the reduced boundary matrix in a file. The format must be the following one: 1 line per interval, containing 3 numbers: the dimension of the homological feature associated with the interval, the left endpoint of the interval (which is the filtration value associated with the simplex that created the homological feature), the right endpoint (which is the filtration value associated with the simplex that killed the homological feature), separated by white spaces. For instance, interval [b,d) in dimension k is written k b d."
   ]
  },
  {
   "cell_type": "markdown",
   "id": "57a9397c",
   "metadata": {},
   "source": [
    "For this part, we've implemented step by step the algorithm given in the end of lecture 4."
   ]
  },
  {
   "cell_type": "code",
   "execution_count": 6,
   "id": "0c2b5e0f",
   "metadata": {},
   "outputs": [],
   "source": [
    "def extract_barcodes(reduced_boundary: list[set[int]], filtration: list[dict]) -> list[tuple[int, int, int]]:\n",
    "    barcodes = []\n",
    "    paired = set()\n",
    "\n",
    "    for j, col in enumerate(reduced_boundary):\n",
    "        if col:\n",
    "            low_j = max(col)  # sorted list: last element = pivot \n",
    "            barcodes.append((filtration[low_j][\"dim\"], low_j, j))  # (dimension, birth, death)\n",
    "            paired.add(low_j)\n",
    "            paired.add(j)\n",
    "\n",
    "    # Infinite bars: unpaired simplices\n",
    "    for i, f in enumerate(filtration):\n",
    "        if i not in paired:\n",
    "            barcodes.append((f[\"dim\"], i, -1))  # death = ∞\n",
    "\n",
    "    # Sort by (dimension, birth index, death index)\n",
    "    barcodes.sort(key=lambda x: (x[0], x[1], x[2] if x[2] != -1 else float('inf')))\n",
    "\n",
    "    # Convert bars to (dimension, birth time, death time)\n",
    "    barcodes = [(dim, filtration[birth_idx][\"time\"], filtration[death_idx][\"time\"] if death_idx != -1 else float('inf'))\n",
    "                for dim, birth_idx, death_idx in barcodes]\n",
    "    return barcodes\n"
   ]
  },
  {
   "cell_type": "markdown",
   "id": "4369b3c4",
   "metadata": {},
   "source": [
    "Let $m$ be the number of simplices in the filtration.\n",
    "\n",
    "Each column contains pivot indices. Computing the maximum of a column col takes $O(|\\text{col}|)$ time. Summing over all $m$ columns, the total cost is  \n",
    "\n",
    "   $$\n",
    "   \\sum_{j=0}^{m-1} O(|\\text{col}_j|) = O\\Big(\\sum_{j=0}^{m-1} |\\text{col}_j|\\Big)\n",
    "   $$\n",
    "\n",
    "In a sparse matrix, most columns are small, so $\\sum |\\text{col}_j| = O(m)$. In the worst case (dense columns), $\\sum |\\text{col}_j| = O(m^2)$.  \n",
    "\n",
    "Checking membership in a set takes $O(1)$ on average, and there are $m$ simplices. Hence this step is $O(m)$.\n",
    "\n",
    "There are at most $m$ barcodes. Sorting by (dimension, birth, death)\n",
    "costs  \n",
    "\n",
    "   $$\n",
    "   O(m \\log m)\n",
    "   $$\n",
    "\n",
    "Iterating over $m$ barcodes and replacing indices by times costs $O(m)$.\n",
    "\n",
    "**Worst-case:** $O(m^2 + m \\log m) = O(m^2)$ (if columns of the reduced matrix are dense).  \n",
    "**Best-case (sparse matrix):** $O(m \\log m)$ (most columns are small).\n",
    "\n",
    "Let $k_j$ be the size of column $j$ in the reduced boundary matrix. Then the cost of computing pivots is  \n",
    "$$\n",
    "\\sum_{j=0}^{m-1} O(k_j)\n",
    "$$\n",
    "- In a sparse matrix, $\\sum k_j = O(m)$, giving $O(m)$ total.  \n",
    "- In the worst case, $\\sum k_j = O(m^2)$.  \n",
    "\n",
    "Sorting dominates only in the sparse case, giving $O(m \\log m)$.  \n",
    "Processing unpaired simplices and converting indices to times are $O(m)$.  \n",
    "\n",
    "Hence, the function scales linearly with $m$ for sparse matrices and quadratically in the worst case.\n"
   ]
  },
  {
   "cell_type": "code",
   "execution_count": 7,
   "id": "89a66a3c",
   "metadata": {},
   "outputs": [],
   "source": [
    "def print_barcodes(barcodes: list[tuple[int, int, int]]) -> None:\n",
    "    for dim, birth, death in barcodes:\n",
    "        print(f\"Dimension: {dim}, Birth: {birth}, Death: {death}\")"
   ]
  },
  {
   "cell_type": "markdown",
   "id": "cae9d20d",
   "metadata": {},
   "source": [
    "---\n",
    "# 3. Experiments"
   ]
  },
  {
   "cell_type": "markdown",
   "id": "05a44f48",
   "metadata": {},
   "source": [
    "The function <i>process_filtration</i> is provided to perform all the aforementioned computations, thereby making the report more concise and easier to interpret."
   ]
  },
  {
   "cell_type": "code",
   "execution_count": 8,
   "id": "ac4a8be8",
   "metadata": {},
   "outputs": [],
   "source": [
    "def process_filtration(filtration: list[dict], name: str, log_scale = False, minimum_length = 0.05) -> float:\n",
    "    # Returns the time in seconds taken to process the filtration\n",
    "    start_time = time.time()\n",
    "    B = boundary_matrix(filtration)\n",
    "    print(\"Boundary matrix computed.\")\n",
    "    barcodes = extract_barcodes(reduce_boundary_matrix(B), filtration)\n",
    "    print(\"Barcodes extracted.\")\n",
    "    end_time = time.time()\n",
    "    plot_barcodes(barcodes, name=name, minimum_length=minimum_length, log_scale = log_scale)\n",
    "    return end_time - start_time"
   ]
  },
  {
   "cell_type": "markdown",
   "id": "3e85422f",
   "metadata": {},
   "source": [
    "## 3.1. Classical spaces"
   ]
  },
  {
   "cell_type": "markdown",
   "id": "b3b1fe87",
   "metadata": {},
   "source": [
    "**Question 5/6** : Compute triangulations and barcodes for some classical topological spaces"
   ]
  },
  {
   "cell_type": "markdown",
   "id": "85dcda78",
   "metadata": {},
   "source": [
    "In all the filtrations we consider, the filtration value of each simplex is equal to its dimension.  \n",
    "It is clear that this defines a valid topological order on the filtration.  \n",
    "For example, vertices are inserted at time $0.0$, edges at time $1.0$, and so on.  \n",
    "\n",
    "This improves the readability of the barcodes since, in practice, there will be very few distinct timestamps and therefore few distinct bars.  \n",
    "\n",
    "Consequently, we only need to define the triangulation of the studied objects."
   ]
  },
  {
   "cell_type": "markdown",
   "id": "193f1cf5",
   "metadata": {},
   "source": [
    "### $\\mathbb{B}_d$ and $\\mathbb{S}_d$"
   ]
  },
  {
   "cell_type": "markdown",
   "id": "e6aeb588",
   "metadata": {},
   "source": [
    "For balls and spheres in dimension $d$, the filtration is quite straightforward:  \n",
    "\n",
    "* ⁠For a $d$-dimensional ball, we consider the vertices $0, \\dots, d$, and define  \n",
    "  $K := \\mathcal{P}(\\llbracket 0, d \\rrbracket) \\setminus \\{\\emptyset\\}$,  \n",
    "  the set of all non-empty subsets of $\\llbracket 0, d \\rrbracket$.  \n",
    "\n",
    "* ⁠For a $d$-dimensional sphere, we take the filtration of $\\mathbb{B}_{d+1}$  \n",
    "  from which we remove the simplex of dimension $d+1$."
   ]
  },
  {
   "cell_type": "code",
   "execution_count": 9,
   "id": "5c9c11ce",
   "metadata": {},
   "outputs": [
    {
     "name": "stdout",
     "output_type": "stream",
     "text": [
      "Boundary matrix computed.\n",
      "Barcodes extracted.\n"
     ]
    },
    {
     "data": {
      "image/png": "[encoded data removed]",
      "text/plain": [
       "<Figure size 1200x600 with 1 Axes>"
      ]
     },
     "metadata": {},
     "output_type": "display_data"
    },
    {
     "name": "stdout",
     "output_type": "stream",
     "text": [
      "Boundary matrix computed.\n",
      "Barcodes extracted.\n"
     ]
    },
    {
     "data": {
      "image/png": "[encoded data removed]",
      "text/plain": [
       "<Figure size 1200x600 with 1 Axes>"
      ]
     },
     "metadata": {},
     "output_type": "display_data"
    },
    {
     "data": {
      "text/plain": [
       "0.00018906593322753906"
      ]
     },
     "execution_count": 9,
     "metadata": {},
     "output_type": "execute_result"
    }
   ],
   "source": [
    "from itertools import combinations\n",
    "\n",
    "def create_filtration(shape = \"ball\", dim = 10):\n",
    "    # énumérer les parties d'une liste de points\n",
    "    if shape == \"ball\":\n",
    "        points = list(range(dim + 1))\n",
    "    elif shape == \"sphere\":\n",
    "        points = list(range(dim + 2))\n",
    "    else:\n",
    "        raise Exception(\"Shape should be \\\"ball\\\" or \\\"sphere\\\"\")\n",
    "\n",
    "    filtration = []\n",
    "    for r in range(dim+1):\n",
    "        for comb in combinations(points, r+1):\n",
    "            filtration.append({\"vert\": set(comb), \"dim\": r, \"time\": r})\n",
    "\n",
    "    return filtration\n",
    "\n",
    "process_filtration(create_filtration(\"ball\", 5), name=\"5-simplex (ball)\")\n",
    "process_filtration(create_filtration(\"sphere\", 4), name=\"5-simplex (sphere)\")"
   ]
  },
  {
   "cell_type": "markdown",
   "id": "8b7479cc",
   "metadata": {},
   "source": [
    "We recover the result from the lecture and exercises:  \n",
    "\n",
    "For the ball $B_d$, we have $\\beta_0 = 1$ and $\\beta_r = 0$ for $r \\geqslant 1$.  \n",
    "For the sphere $S_d$, we have $\\beta_0 = \\beta_d = 1$ and $\\beta_r = 0$ otherwise.  \n",
    "\n",
    "Note that the bars in the barcode are organized into blocks of bars $[d, d+1)$,  \n",
    "to which we add the infinite bars $[d, +\\infty)$. This is because the only simplices that can create or destroy a bar in dimension $d$  \n",
    "appear at time $d + 1$."
   ]
  },
  {
   "cell_type": "code",
   "execution_count": 10,
   "id": "db5163e9",
   "metadata": {},
   "outputs": [
    {
     "data": {
      "image/png": "[encoded data removed]",
      "text/plain": [
       "<Figure size 640x480 with 1 Axes>"
      ]
     },
     "metadata": {},
     "output_type": "display_data"
    }
   ],
   "source": [
    "# Tracé le temps de calcul en fonction de la dimension pour les deux types de filtrations\n",
    "max_dim = 15\n",
    "\n",
    "ball_sizes = [2**(d+1) - 1 for d in range(0, max_dim)]\n",
    "sphere_sizes = [2**(d+2) - 2 for d in range(0, max_dim-1)]\n",
    "ball_times = []\n",
    "sphere_times = []\n",
    "for dim in range(0, max_dim):\n",
    "    start_time = time.time()\n",
    "    _ = reduce_boundary_matrix(boundary_matrix(create_filtration(\"ball\", dim)))\n",
    "    ball_time = time.time() - start_time\n",
    "    ball_times.append(ball_time)\n",
    "for dim in range(0, max_dim-1):\n",
    "    start_time = time.time()\n",
    "    _ = reduce_boundary_matrix(boundary_matrix(create_filtration(\"sphere\", dim)))\n",
    "    sphere_time = time.time() - start_time\n",
    "    sphere_times.append(sphere_time)\n",
    "\n",
    "plt.plot(ball_sizes, ball_times, label=\"Balls\")\n",
    "plt.plot(sphere_sizes, sphere_times, label=\"Spheres\")\n",
    "plt.xlabel(\"Size (m)\")\n",
    "plt.ylabel(\"Computation Time (s)\")\n",
    "plt.title(\"Computation Time vs Size for Balls and Spheres\")\n",
    "plt.legend()\n",
    "plt.show()"
   ]
  },
  {
   "cell_type": "markdown",
   "id": "a3b02179",
   "metadata": {},
   "source": [
    "We observe that the computation time for spheres and balls is practically linear with respect to the size of the filtration.  \n",
    "This corroborates the result from Question 3. Note that the matrix contains $O(m)$ non-zero elements in the case of balls (and also spheres).  \n",
    "\n",
    "Indeed, for a ball of dimension $d$ and for $k \\in \\{1, \\dots, d\\}$,  \n",
    "the filtration contains $\\binom{d+1}{k+1}$ simplices of dimension $k$,  \n",
    "and each simplex of dimension $k$ has $k+1$ faces of dimension $k-1$.  \n",
    "\n",
    "Thus, the total number of non-zero elements in the boundary matrix is:  \n",
    "\n",
    "$$\n",
    "\\sum_{k=1}^{d} (k+1) \\binom{d+1}{k+1} = (d+2) 2^{d} - (d+1) = O(m)\n",
    "$$"
   ]
  },
  {
   "cell_type": "markdown",
   "id": "5166cc20",
   "metadata": {},
   "source": [
    "---\n",
    "### Moebius band"
   ]
  },
  {
   "cell_type": "markdown",
   "id": "158cde02",
   "metadata": {},
   "source": [
    "<p align=\"center\">\n",
    "    <img src=\"img/triangulation_moebius_band.png\" alt=\"Moebius band triangulation\" width=\"300\", center />\n",
    "</p>"
   ]
  },
  {
   "cell_type": "markdown",
   "id": "d2091eed",
   "metadata": {},
   "source": [
    "We can use a triangulation similar to that of the cylinder, using 6 vertices, 12 edges, and 6 triangles, as shown above."
   ]
  },
  {
   "cell_type": "code",
   "execution_count": 11,
   "id": "74c27e7d",
   "metadata": {},
   "outputs": [
    {
     "name": "stdout",
     "output_type": "stream",
     "text": [
      "Boundary matrix computed.\n",
      "Barcodes extracted.\n"
     ]
    },
    {
     "data": {
      "image/png": "[encoded data removed]",
      "text/plain": [
       "<Figure size 1200x600 with 1 Axes>"
      ]
     },
     "metadata": {},
     "output_type": "display_data"
    },
    {
     "data": {
      "text/plain": [
       "7.605552673339844e-05"
      ]
     },
     "execution_count": 11,
     "metadata": {},
     "output_type": "execute_result"
    }
   ],
   "source": [
    "filtration = read_filtration(\"filtrations/filtration_moebius.txt\")\n",
    "process_filtration(filtration, name=\"Moebius band\")"
   ]
  },
  {
   "cell_type": "markdown",
   "id": "b03606ef",
   "metadata": {},
   "source": [
    "---\n",
    "### Torus"
   ]
  },
  {
   "cell_type": "markdown",
   "id": "9ae55ff3",
   "metadata": {},
   "source": [
    "<p align=\"center\">\n",
    "    <img src=\"img/triangulation_torus.png\" alt=\"Torus triangulation\" width=\"300\", center />\n",
    "</p>"
   ]
  },
  {
   "cell_type": "markdown",
   "id": "832055b4",
   "metadata": {},
   "source": [
    "The triangulation used is similar to the one seen during the exercises.  \n",
    "Because of the gluing of the top and bottom edges, we are forced to add 3 new vertices.  \n",
    "We now have 9 vertices, 27 edges, and 18 triangles."
   ]
  },
  {
   "cell_type": "code",
   "execution_count": 12,
   "id": "719085f9",
   "metadata": {},
   "outputs": [
    {
     "name": "stdout",
     "output_type": "stream",
     "text": [
      "Boundary matrix computed.\n",
      "Barcodes extracted.\n"
     ]
    },
    {
     "data": {
      "image/png": "[encoded data removed]",
      "text/plain": [
       "<Figure size 1200x600 with 1 Axes>"
      ]
     },
     "metadata": {},
     "output_type": "display_data"
    },
    {
     "data": {
      "text/plain": [
       "0.0001571178436279297"
      ]
     },
     "execution_count": 12,
     "metadata": {},
     "output_type": "execute_result"
    }
   ],
   "source": [
    "filtration = read_filtration(\"filtrations/filtration_torus.txt\")\n",
    "process_filtration(filtration, name=\"Torus\")"
   ]
  },
  {
   "cell_type": "markdown",
   "id": "6b52dbdb",
   "metadata": {},
   "source": [
    "---\n",
    "### Klein bottle"
   ]
  },
  {
   "cell_type": "markdown",
   "id": "125199ba",
   "metadata": {},
   "source": [
    "<p align=\"center\">\n",
    "    <img src=\"img/triangulation_klein_bottle.png\" alt=\"Klein bottle triangulation\" width=\"300\", center />\n",
    "</p>"
   ]
  },
  {
   "cell_type": "markdown",
   "id": "99f34e29",
   "metadata": {},
   "source": [
    "We use the same triangulation as for the torus, but we invert the representation of vertices 3 and 4 on the right edge."
   ]
  },
  {
   "cell_type": "code",
   "execution_count": 13,
   "id": "1ef1f54f",
   "metadata": {},
   "outputs": [
    {
     "name": "stdout",
     "output_type": "stream",
     "text": [
      "Boundary matrix computed.\n",
      "Barcodes extracted.\n"
     ]
    },
    {
     "data": {
      "image/png": "[encoded data removed]",
      "text/plain": [
       "<Figure size 1200x600 with 1 Axes>"
      ]
     },
     "metadata": {},
     "output_type": "display_data"
    }
   ],
   "source": [
    "filtration = read_filtration(\"filtrations/filtration_klein_bottle.txt\")\n",
    "_ = process_filtration(filtration, name=\"Klein bottle\")"
   ]
  },
  {
   "cell_type": "markdown",
   "id": "66977507",
   "metadata": {},
   "source": [
    "---\n",
    "### Projective plane $\\mathbb{RP}^2$"
   ]
  },
  {
   "cell_type": "markdown",
   "id": "3f311e63",
   "metadata": {},
   "source": [
    "<p align=\"center\">\n",
    "    <img src=\"img/triangulation_projective_plane.png\" alt=\"Projective plane triangulation\" width=\"300\", center />\n",
    "</p>"
   ]
  },
  {
   "cell_type": "markdown",
   "id": "3921b8b5",
   "metadata": {},
   "source": [
    "For the projective plane, we are forced to add a tenth vertice (9), and to change the directions of some edges to prevent the diagram from having 2 times the same triangles."
   ]
  },
  {
   "cell_type": "code",
   "execution_count": null,
   "id": "0f61ded9",
   "metadata": {},
   "outputs": [
    {
     "name": "stdout",
     "output_type": "stream",
     "text": [
      "Boundary matrix computed.\n",
      "Barcodes extracted.\n"
     ]
    },
    {
     "data": {
      "image/png": "[encoded data removed]",
      "text/plain": [
       "<Figure size 1200x600 with 1 Axes>"
      ]
     },
     "metadata": {},
     "output_type": "display_data"
    }
   ],
   "source": [
    "filtration = read_filtration(\"filtrations/filtration_projective_plane.txt\")\n",
    "_ = process_filtration(filtration, name=\"Projective plane\")"
   ]
  },
  {
   "cell_type": "markdown",
   "id": "dd228bbe",
   "metadata": {},
   "source": [
    "---\n",
    "## 3.2. Simulated data"
   ]
  },
  {
   "cell_type": "markdown",
   "id": "a034f12f",
   "metadata": {},
   "source": [
    "### Filtration A"
   ]
  },
  {
   "cell_type": "code",
   "execution_count": null,
   "id": "68b6065b",
   "metadata": {},
   "outputs": [
    {
     "name": "stdout",
     "output_type": "stream",
     "text": [
      "Boundary matrix computed.\n"
     ]
    }
   ],
   "source": [
    "filtration_a = read_filtration(\"filtrations/filtration_A.txt\")\n",
    "duration = process_filtration(filtration_a, name=\"Filtration A\", log_scale=True, minimum_length=0.0)\n",
    "print(\"Size of filtration A:\", len(filtration_a))\n",
    "print(\"Time to process filtration A:\", duration, \"seconds\")"
   ]
  },
  {
   "cell_type": "markdown",
   "id": "db227369",
   "metadata": {},
   "source": [
    "**Size of filtration A:** 428643  \n",
    "**Time to process filtration A:** 108.7078 seconds (may vary depending on the execution)\n",
    "\n",
    "Analysis of the underlying topological object\n",
    "- From the barcode diagram, we measure  \n",
    "  $\\beta_0 = 1, \\quad \\beta_1 = 0, \\quad \\beta_2 = 0, \\ldots$\n",
    "  Thus, the corresponding topological object is **connected**, with **no holes or cavities**.  \n",
    "  All connected components of this object are **homotopic to a point**.\n",
    "\n",
    "- We can also study the **dynamic construction** of the filtration.  \n",
    "  At the beginning, all vertices are generated individually (this is when most of the $H_0$ bars are born).  \n",
    "  Then, edges are progressively added, which eliminates many connected components (points merge and $H_0$ bars die).  \n",
    "  Finally, a few triangles (2D simplices) remove all the remaining 1-cycles without creating any cavity.\n"
   ]
  },
  {
   "cell_type": "markdown",
   "id": "445ce261",
   "metadata": {},
   "source": []
  },
  {
   "cell_type": "markdown",
   "id": "25671f97",
   "metadata": {},
   "source": [
    "### Filtration B"
   ]
  },
  {
   "cell_type": "code",
   "execution_count": null,
   "id": "66aa6fd7",
   "metadata": {},
   "outputs": [
    {
     "name": "stdout",
     "output_type": "stream",
     "text": [
      "Boundary matrix computed.\n",
      "Barcodes extracted.\n"
     ]
    },
    {
     "data": {
      "image/png": "[encoded data removed]",
      "text/plain": [
       "<Figure size 1200x600 with 1 Axes>"
      ]
     },
     "metadata": {},
     "output_type": "display_data"
    },
    {
     "name": "stdout",
     "output_type": "stream",
     "text": [
      "Size of filtration B: 108161\n",
      "Time to process filtration B: 5.465867757797241 seconds\n"
     ]
    }
   ],
   "source": [
    "filtration_b = read_filtration(\"filtrations/filtration_B.txt\")\n",
    "duration = process_filtration(filtration_b, name=\"Filtration B\", log_scale = False, minimum_length=0.05)\n",
    "print(\"Size of filtration B:\", len(filtration_b))\n",
    "print(\"Time to process filtration B:\", duration, \"seconds\")"
   ]
  },
  {
   "cell_type": "markdown",
   "id": "d29f128b",
   "metadata": {},
   "source": [
    "**Size of filtration B:** 108161  \n",
    "**Time to process filtration B:** 5.4838478565216064 seconds  \n",
    "\n",
    "\n",
    "Analysis of the underlying topological object\n",
    "- The Betti numbers are the same as for filtration A.  \n",
    "  Therefore, we have the same analysis as for object A.\n",
    "- In filtration B, the vertices are added first, followed very quickly by the edges that connect them  \n",
    "  (since all $H_0$ bars were very short except for the single infinite one).  \n",
    "  Then, some **cavities** and **1-cycles** appear through the addition of triangles and edges.  \n",
    "  The cavities are destroyed by the addition of **3D simplices**, and the cycles disappear  \n",
    "  when new triangles are added around $t = 1.3$ on the logarithmic scale.  \n",
    "  Apparently, these last added triangles create a **central cavity**  \n",
    "  (corresponding to the large $H_2$ bar).\n",
    "\n",
    "**Conclusion:** The evolution of filtration B follows a similar pattern to A,  \n",
    "but exhibits a transient formation of higher-dimensional structures before stabilization.\n"
   ]
  },
  {
   "cell_type": "markdown",
   "id": "35175e96",
   "metadata": {},
   "source": [
    "### Filtration C"
   ]
  },
  {
   "cell_type": "code",
   "execution_count": null,
   "id": "a5e81e00",
   "metadata": {},
   "outputs": [
    {
     "name": "stdout",
     "output_type": "stream",
     "text": [
      "Boundary matrix computed.\n",
      "Barcodes extracted.\n"
     ]
    },
    {
     "data": {
      "image/png": "[encoded data removed]",
      "text/plain": [
       "<Figure size 1200x600 with 1 Axes>"
      ]
     },
     "metadata": {},
     "output_type": "display_data"
    },
    {
     "name": "stdout",
     "output_type": "stream",
     "text": [
      "Size of filtration C: 180347\n",
      "Time to process filtration C: 14.846550703048706 seconds\n"
     ]
    }
   ],
   "source": [
    "filtration_c = read_filtration(\"filtrations/filtration_C.txt\")\n",
    "duration = process_filtration(filtration_c, name=\"Filtration C\", log_scale = False, minimum_length = 0.0)\n",
    "print(\"Size of filtration C:\", len(filtration_c))\n",
    "print(\"Time to process filtration C:\", duration, \"seconds\")"
   ]
  },
  {
   "cell_type": "markdown",
   "id": "60457cbc",
   "metadata": {},
   "source": [
    "**Size of filtration C:** 180347  \n",
    "**Time to process filtration C:** 14.717528820037842 seconds  \n",
    "\n",
    "\n",
    "Analysis of the underlying topological object\n",
    "- Once again, the Betti numbers are the same as for filtrations A and B.  \n",
    "  Therefore, we obtain the same topological interpretation as for those objects.\n",
    "  \n",
    "- In filtration C, the vertices are added almost simultaneously with many edges and triangles.  \n",
    "  As a result, the complex becomes **connected very quickly** (an edge is added for each new vertex),  \n",
    "  with **few 1-cycles** remaining (since triangles are added to fill them).  \n",
    "  \n",
    "  A very large **cycle** persists for a long time.Starting from $t = 1$, a **filling phase** begins:  \n",
    "  the main cavity is divided into several smaller cavities,  \n",
    "  which are then rapidly filled by the addition of **3D simplices**.\n",
    "\n",
    "**Conclusion:**  \n",
    "Filtration C shows a faster and denser connection process,  \n",
    "leading to an early stabilization of the complex and a brief persistence of a large cavity before it is filled.\n"
   ]
  },
  {
   "cell_type": "markdown",
   "id": "c906d0d7",
   "metadata": {},
   "source": [
    "### Filtration D"
   ]
  },
  {
   "cell_type": "code",
   "execution_count": null,
   "id": "81f21f68",
   "metadata": {},
   "outputs": [
    {
     "name": "stdout",
     "output_type": "stream",
     "text": [
      "Boundary matrix computed.\n"
     ]
    },
    {
     "ename": "KeyboardInterrupt",
     "evalue": "",
     "output_type": "error",
     "traceback": [
      "\u001b[0;31m---------------------------------------------------------------------------\u001b[0m",
      "\u001b[0;31mKeyboardInterrupt\u001b[0m                         Traceback (most recent call last)",
      "Cell \u001b[0;32mIn[18], line 2\u001b[0m\n\u001b[1;32m      1\u001b[0m filtration_d \u001b[38;5;241m=\u001b[39m read_filtration(\u001b[38;5;124m\"\u001b[39m\u001b[38;5;124mfiltrations/filtration_D.txt\u001b[39m\u001b[38;5;124m\"\u001b[39m)\n\u001b[0;32m----> 2\u001b[0m duration \u001b[38;5;241m=\u001b[39m \u001b[43mprocess_filtration\u001b[49m\u001b[43m(\u001b[49m\u001b[43mfiltration_d\u001b[49m\u001b[43m,\u001b[49m\u001b[43m \u001b[49m\u001b[43mname\u001b[49m\u001b[38;5;241;43m=\u001b[39;49m\u001b[38;5;124;43m\"\u001b[39;49m\u001b[38;5;124;43mFiltration D\u001b[39;49m\u001b[38;5;124;43m\"\u001b[39;49m\u001b[43m)\u001b[49m\n\u001b[1;32m      3\u001b[0m \u001b[38;5;28mprint\u001b[39m(\u001b[38;5;124m\"\u001b[39m\u001b[38;5;124mSize of filtration D:\u001b[39m\u001b[38;5;124m\"\u001b[39m, \u001b[38;5;28mlen\u001b[39m(filtration_d))\n\u001b[1;32m      4\u001b[0m \u001b[38;5;28mprint\u001b[39m(\u001b[38;5;124m\"\u001b[39m\u001b[38;5;124mTime to process filtration D:\u001b[39m\u001b[38;5;124m\"\u001b[39m, duration, \u001b[38;5;124m\"\u001b[39m\u001b[38;5;124mseconds\u001b[39m\u001b[38;5;124m\"\u001b[39m)\n",
      "Cell \u001b[0;32mIn[8], line 6\u001b[0m, in \u001b[0;36mprocess_filtration\u001b[0;34m(filtration, name)\u001b[0m\n\u001b[1;32m      4\u001b[0m B \u001b[38;5;241m=\u001b[39m boundary_matrix(filtration)\n\u001b[1;32m      5\u001b[0m \u001b[38;5;28mprint\u001b[39m(\u001b[38;5;124m\"\u001b[39m\u001b[38;5;124mBoundary matrix computed.\u001b[39m\u001b[38;5;124m\"\u001b[39m)\n\u001b[0;32m----> 6\u001b[0m barcodes \u001b[38;5;241m=\u001b[39m extract_barcodes(\u001b[43mreduce_boundary_matrix\u001b[49m\u001b[43m(\u001b[49m\u001b[43mB\u001b[49m\u001b[43m)\u001b[49m, filtration)\n\u001b[1;32m      7\u001b[0m \u001b[38;5;28mprint\u001b[39m(\u001b[38;5;124m\"\u001b[39m\u001b[38;5;124mBarcodes extracted.\u001b[39m\u001b[38;5;124m\"\u001b[39m)\n\u001b[1;32m      8\u001b[0m end_time \u001b[38;5;241m=\u001b[39m time\u001b[38;5;241m.\u001b[39mtime()\n",
      "Cell \u001b[0;32mIn[5], line 17\u001b[0m, in \u001b[0;36mreduce_boundary_matrix\u001b[0;34m(boundary)\u001b[0m\n\u001b[1;32m     15\u001b[0m     \u001b[38;5;66;03m# Perform column addition (mod 2) : XOR\u001b[39;00m\n\u001b[1;32m     16\u001b[0m     reduced_boundary[j] \u001b[38;5;241m=\u001b[39m \u001b[38;5;28mset\u001b[39m(reduced_boundary[j]) \u001b[38;5;241m^\u001b[39m \u001b[38;5;28mset\u001b[39m(reduced_boundary[i])\n\u001b[0;32m---> 17\u001b[0m     low_j \u001b[38;5;241m=\u001b[39m \u001b[38;5;28;43mmax\u001b[39;49m\u001b[43m(\u001b[49m\u001b[43mreduced_boundary\u001b[49m\u001b[43m[\u001b[49m\u001b[43mj\u001b[49m\u001b[43m]\u001b[49m\u001b[43m)\u001b[49m \u001b[38;5;28;01mif\u001b[39;00m reduced_boundary[j] \u001b[38;5;28;01melse\u001b[39;00m \u001b[38;5;241m-\u001b[39m\u001b[38;5;241m1\u001b[39m\n\u001b[1;32m     18\u001b[0m \u001b[38;5;28;01mif\u001b[39;00m low_j \u001b[38;5;241m!=\u001b[39m \u001b[38;5;241m-\u001b[39m\u001b[38;5;241m1\u001b[39m:\n\u001b[1;32m     19\u001b[0m     pivots[low_j] \u001b[38;5;241m=\u001b[39m j\n",
      "\u001b[0;31mKeyboardInterrupt\u001b[0m: "
     ]
    }
   ],
   "source": [
    "filtration_d = read_filtration(\"filtrations/filtration_D.txt\")\n",
    "duration = process_filtration(filtration_d, name=\"Filtration D\", log_scale = True, minimum_length = 0.0)\n",
    "print(\"Size of filtration D:\", len(filtration_d))\n",
    "print(\"Time to process filtration D:\", duration, \"seconds\")"
   ]
  },
  {
   "cell_type": "markdown",
   "id": "e481f937",
   "metadata": {},
   "source": [
    "**Size of filtration D:** 2716431  \n",
    "**Time to process filtration D:** 586.8552062511444 seconds  \n",
    "\n",
    "Analysis of the underlying topological object\n",
    "- Once again, the Betti numbers are the same as for the previous filtrations.  \n",
    "  Therefore, we obtain the same topological interpretation as for those objects.\n",
    "  \n",
    "- In filtration D, the construction order occurs through small **clusters** or **balls**.  \n",
    "  These clusters are built rather independently and are then merged together  \n",
    "  (similarly to what happens in filtration A).  \n",
    "  It is at this stage that the $H_0$ bars disappear.\n",
    "  \n",
    "  Around $t \\in [-7, -5]$ on the logarithmic scale,  \n",
    "  the initial 1-cycle is divided into many smaller 1-cycles as new edges are added.  \n",
    "  These cycles are gradually eliminated by the addition of triangles that fill the corresponding surfaces.  \n",
    "  \n",
    "  At $t = 0$, the same phenomenon occurs one dimension higher and in a more instantaneous manner.  \n",
    "  The large cavity is subdivided by the addition of triangles,  \n",
    "  which are then very efficiently filled by the addition of the final **3D simplices**.\n",
    "\n",
    "**Conclusion:**  \n",
    "Filtration D exhibits a hierarchical construction process through independent local clusters  \n",
    "that later merge, leading to the gradual disappearance of low-dimensional features  \n",
    "and a rapid filling of higher-dimensional cavities near the end of the filtration."
   ]
  },
  {
   "cell_type": "markdown",
   "id": "621b116e",
   "metadata": {},
   "source": [
    "---\n",
    "## Final analysis\n",
    "\n",
    "Finally, obtaining the barcodes provides valuable insight into the topology  \n",
    "of the partial simplicial complexes throughout time and at the end of the process.  \n",
    "They also help us understand the order in which the simplices are added:\n",
    "\n",
    "- **By increasing dimension** (filtration A)\n",
    "- **By vertex order** — a vertex is added and then connected by adding all simplices containing it (filtrations B and C)  \n",
    "- **By clusters or local groups** — some clusters are completed and later connected together (filtration D)\n",
    "\n",
    "However, the algorithm does not allow us to extract more **geometric information**  \n",
    "about the structure of the data, since the Betti numbers — even when considered over time —  \n",
    "do not fully characterize a geometric or topological object."
   ]
  },
  {
   "cell_type": "markdown",
   "id": "f960c602",
   "metadata": {},
   "source": [
    "<table>\n",
    "  <thead>\n",
    "    <tr>\n",
    "      <th style=\"text-align:left;\">Filtration</th>\n",
    "      <th style=\"text-align:right;\">Size</th>\n",
    "      <th style=\"text-align:right;\">Time (s)</th>\n",
    "      <th style=\"text-align:right;\">Time / Size (s / élément)</th>\n",
    "    </tr>\n",
    "  </thead>\n",
    "  <tbody>\n",
    "    <tr><td>A</td><td style=\"text-align:right;\">428 643</td><td style=\"text-align:right;\">108.7078</td><td style=\"text-align:right;\">0.0002536</td></tr>\n",
    "    <tr><td>B</td><td style=\"text-align:right;\">108 161</td><td style=\"text-align:right;\">5.4838</td><td style=\"text-align:right;\">0.0000507</td></tr>\n",
    "    <tr><td>C</td><td style=\"text-align:right;\">180 347</td><td style=\"text-align:right;\">14.7175</td><td style=\"text-align:right;\">0.0000816</td></tr>\n",
    "    <tr><td>D</td><td style=\"text-align:right;\">2 716 431</td><td style=\"text-align:right;\">444.8562</td><td style=\"text-align:right;\">0.0001638</td></tr>\n",
    "  </tbody>\n",
    "</table>"
   ]
  }
 ],
 "metadata": {
  "kernelspec": {
   "display_name": "CSC_Topological_data_analysis",
   "language": "python",
   "name": "python3"
  },
  "language_info": {
   "codemirror_mode": {
    "name": "ipython",
    "version": 3
   },
   "file_extension": ".py",
   "mimetype": "text/x-python",
   "name": "python",
   "nbconvert_exporter": "python",
   "pygments_lexer": "ipython3",
   "version": "3.12.11"
  }
 },
 "nbformat": 4,
 "nbformat_minor": 5
}
