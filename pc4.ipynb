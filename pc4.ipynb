{
 "cells": [
  {
   "cell_type": "code",
   "execution_count": 2,
   "id": "f4a898ca",
   "metadata": {},
   "outputs": [],
   "source": [
    "import sys\n",
    "\n",
    "class Simplex:\n",
    "    def __init__(self, tokens):\n",
    "        self.val = float(tokens.pop(0))\n",
    "        self.dim = int(tokens.pop(0))\n",
    "        self.vert = set(int(tokens.pop(0)) for _ in range(self.dim + 1))\n",
    "\n",
    "    def __str__(self):\n",
    "        return f\"{{val={self.val}; dim={self.dim}; {sorted(self.vert)}}}\""
   ]
  },
  {
   "cell_type": "code",
   "execution_count": 3,
   "id": "6284971c",
   "metadata": {},
   "outputs": [
    {
     "name": "stdout",
     "output_type": "stream",
     "text": [
      "{val=1.0; dim=0; [2]}\n",
      "{val=1.0; dim=0; [4]}\n",
      "{val=1.0; dim=0; [1]}\n",
      "{val=2.0; dim=1; [2, 4]}\n",
      "{val=2.0; dim=1; [1, 2]}\n",
      "{val=3.0; dim=0; [7]}\n",
      "{val=4.0; dim=1; [4, 7]}\n",
      "{val=4.0; dim=1; [1, 7]}\n",
      "{val=5.0; dim=1; [1, 4]}\n",
      "{val=6.0; dim=2; [1, 4, 7]}\n"
     ]
    }
   ],
   "source": [
    "# Return a sorted by time filtration from a file \n",
    "def read_filtration(filename):\n",
    "    filtration = []\n",
    "    with open(filename, \"r\") as f:\n",
    "        tokens = []\n",
    "        for line in f:\n",
    "            tokens.extend(line.strip().split())\n",
    "        # On lit les simplexes jusqu’à ce qu’il n’y ait plus de tokens\n",
    "        while tokens:\n",
    "            filtration.append(Simplex(tokens))\n",
    "\n",
    "        filtration.sort(key=lambda s: s.val)\n",
    "    return filtration\n",
    "\n",
    "filtration = read_filtration(\"filtration.txt\")\n",
    "for simplex in filtration:\n",
    "    print(simplex)"
   ]
  },
  {
   "cell_type": "code",
   "execution_count": 4,
   "id": "274da6f5",
   "metadata": {},
   "outputs": [
    {
     "name": "stdout",
     "output_type": "stream",
     "text": [
      "[[], [], [], [0, 1], [0, 2], [], [1, 5], [2, 5], [1, 2], [6, 7, 8]]\n"
     ]
    }
   ],
   "source": [
    "## Question 1 - Boundary matrix\n",
    "def boundary_matrix(filtration : list[Simplex]) -> list[list[int]]:\n",
    "\n",
    "    # Sort the filtration by time insertion\n",
    "    filtration = sorted(filtration, key=lambda s: s.val)\n",
    "\n",
    "    n = len(filtration)\n",
    "    \n",
    "    boundary = []\n",
    "\n",
    "    for j, simplex in enumerate(filtration):\n",
    "        boundary.append([])\n",
    "        for i, face in enumerate(filtration):\n",
    "            if i != j and face.dim == simplex.dim - 1 and face.vert.issubset(simplex.vert):\n",
    "                boundary[j].append(i)\n",
    "\n",
    "    return boundary\n",
    "\n",
    "print(boundary_matrix(filtration))\n"
   ]
  },
  {
   "cell_type": "code",
   "execution_count": 5,
   "id": "f9eb3d6b",
   "metadata": {},
   "outputs": [
    {
     "name": "stdout",
     "output_type": "stream",
     "text": [
      "[[], [], [], [0, 1], [0, 2], [], [1, 5], [], [], [6, 7, 8]]\n"
     ]
    }
   ],
   "source": [
    "\n",
    "## Question 2,3 - Reduction algorithm\n",
    "def reduce_boundary_matrix(boundary : list[list[int]]) -> list[list[int]]:\n",
    "    \n",
    "    reduced_boundary = boundary.copy()\n",
    "    m = len(reduced_boundary)\n",
    "\n",
    "    low = [max(col) if col else -1 for col in reduced_boundary]\n",
    "\n",
    "    for j in range(m):\n",
    "        while low[j] != -1 and low[j] in low[:j]:\n",
    "\n",
    "            i = low.index(low[j])\n",
    "\n",
    "            # Perform column addition (mod 2) : XOR\n",
    "            reduced_boundary[j] = list(set(reduced_boundary[j]) ^ set(reduced_boundary[i]))\n",
    "            low[j] = max(reduced_boundary[j]) if reduced_boundary[j] else -1\n",
    "\n",
    "    return reduced_boundary # à optimiser\n",
    "\n",
    "print(reduce_boundary_matrix(boundary_matrix(filtration)))"
   ]
  },
  {
   "cell_type": "code",
   "execution_count": 6,
   "id": "0c2b5e0f",
   "metadata": {},
   "outputs": [
    {
     "name": "stdout",
     "output_type": "stream",
     "text": [
      "Seen indexes: {1, 2, 3, 4, 5, 6, 8, 9}\n",
      "0 1.0 inf\n",
      "0 1.0 2.0\n",
      "0 1.0 2.0\n",
      "0 3.0 4.0\n",
      "1 4.0 inf\n",
      "1 5.0 6.0\n",
      "Seen indexes: {1, 2, 3, 4, 5, 6, 8, 9}\n",
      "[(0, 0, -1), (0, 1, 3), (0, 2, 4), (0, 5, 6), (1, 7, -1), (1, 8, 9)]\n"
     ]
    }
   ],
   "source": [
    "\n",
    "## Question 4 - Barcode extraction\n",
    "def extract_barcodes(reduced_boundary : list[list[int]], filtration : list[Simplex]) -> list[tuple[int, int, int]]:\n",
    "\n",
    "    seen_indexes = set()\n",
    "    barcodes = []\n",
    "\n",
    "    for j in range(len(reduced_boundary)):\n",
    "        if reduced_boundary[j]:\n",
    "            seen_indexes.add(j)\n",
    "            low_j = max(reduced_boundary[j])\n",
    "            seen_indexes.add(low_j)\n",
    "            barcode = (filtration[low_j].dim, low_j,j)  # (index, death index, dimension)\n",
    "            barcodes.append(barcode)\n",
    "\n",
    "    print(\"Seen indexes:\", seen_indexes)\n",
    "    unseen_indexes = set(range(len(filtration))) - seen_indexes\n",
    "    for i in unseen_indexes:\n",
    "        barcode = (filtration[i].dim, i, -1)  # (index, death index = ∞, dimension)\n",
    "        barcodes.append(barcode)\n",
    "\n",
    "    barcodes.sort(key=lambda x: (x[0], x[1], x[2] if x[2] != -1 else float('inf')))  # Sort by (dimension, birth index)\n",
    "    return barcodes\n",
    "\n",
    "\n",
    "def print_barcodes(barcodes : list[tuple[int, int, int]], filtration : list[Simplex]) -> None:\n",
    "    for (dim, birth_idx, death_idx) in barcodes:\n",
    "        birth_time = filtration[birth_idx].val\n",
    "        death_time = filtration[death_idx].val if death_idx != -1 else float('inf')\n",
    "        print(f\"{dim} {birth_time} {death_time}\")\n",
    "\n",
    "print_barcodes(extract_barcodes(reduce_boundary_matrix(boundary_matrix(filtration)), filtration), filtration)\n",
    "print(extract_barcodes(reduce_boundary_matrix(boundary_matrix(filtration)), filtration))"
   ]
  },
  {
   "cell_type": "code",
   "execution_count": 7,
   "id": "ea42def4",
   "metadata": {},
   "outputs": [],
   "source": [
    "\n",
    "## TODO : report, answer questions, complexity analysis, plots, analysis of graphs, 2 3 pages. \n",
    "# >>> jupyter notebook"
   ]
  },
  {
   "cell_type": "code",
   "execution_count": null,
   "id": "ac4a8be8",
   "metadata": {},
   "outputs": [],
   "source": [
    "## Question 5 - Complexity analysis\n",
    "filtration_a = read_filtration(\"filtrations/filtration_a.txt\")\n",
    "print(\"Filtration a:\")\n",
    "print_barcodes(extract_barcodes(reduce_boundary_matrix(boundary_matrix(filtration_a))), filtration_a)"
   ]
  }
 ],
 "metadata": {
  "kernelspec": {
   "display_name": "CSC_Topological_data_analysis",
   "language": "python",
   "name": "python3"
  },
  "language_info": {
   "codemirror_mode": {
    "name": "ipython",
    "version": 3
   },
   "file_extension": ".py",
   "mimetype": "text/x-python",
   "name": "python",
   "nbconvert_exporter": "python",
   "pygments_lexer": "ipython3",
   "version": "3.12.11"
  }
 },
 "nbformat": 4,
 "nbformat_minor": 5
}
