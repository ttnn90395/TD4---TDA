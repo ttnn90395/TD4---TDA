{
 "cells": [
  {
   "cell_type": "markdown",
   "id": "051f74f2",
   "metadata": {},
   "source": [
    "# TD 4 - Topological Persistence\n"
   ]
  },
  {
   "cell_type": "markdown",
   "id": "068170ee",
   "metadata": {},
   "source": [
    "*by Joseph DE ROFFIGNAC and Ten NGUYEN HANAOKA* "
   ]
  },
  {
   "cell_type": "markdown",
   "id": "c67dd0b6",
   "metadata": {},
   "source": [
    "The purpose of this notebook is to address all the exercises from Lab Session 4 (INF556 – TD4), which focuses on implementing an algorithm to compute persistent homology with coefficients in the field ℤ/2ℤ (also denoted ℤ₂), and on testing it across various filtrations."
   ]
  },
  {
   "cell_type": "markdown",
   "id": "efff3889",
   "metadata": {},
   "source": [
    "### Let's start with some imports !"
   ]
  },
  {
   "cell_type": "code",
   "execution_count": 23,
   "id": "46d193d0",
   "metadata": {},
   "outputs": [
    {
     "name": "stdout",
     "output_type": "stream",
     "text": [
      "Requirement already satisfied: tqdm in /usr/local/python/3.12.1/lib/python3.12/site-packages (4.67.1)\n",
      "\n",
      "\u001b[1m[\u001b[0m\u001b[34;49mnotice\u001b[0m\u001b[1;39;49m]\u001b[0m\u001b[39;49m A new release of pip is available: \u001b[0m\u001b[31;49m25.1.1\u001b[0m\u001b[39;49m -> \u001b[0m\u001b[32;49m25.2\u001b[0m\n",
      "\u001b[1m[\u001b[0m\u001b[34;49mnotice\u001b[0m\u001b[1;39;49m]\u001b[0m\u001b[39;49m To update, run: \u001b[0m\u001b[32;49mpython -m pip install --upgrade pip\u001b[0m\n",
      "Note: you may need to restart the kernel to use updated packages.\n"
     ]
    }
   ],
   "source": [
    "%pip install tqdm"
   ]
  },
  {
   "cell_type": "code",
   "execution_count": 24,
   "id": "f4a898ca",
   "metadata": {},
   "outputs": [],
   "source": [
    "import sys\n",
    "import time\n",
    "from tqdm import tqdm\n",
    "from utils import read_filtration"
   ]
  },
  {
   "cell_type": "markdown",
   "id": "fe950973",
   "metadata": {},
   "source": [
    "We are provided with a Simplex class (see simplex.py for more details) that contains three attributes:\n",
    "* val (float): the time of appearance in the filtration,\n",
    "* dim (int): the dimension,\n",
    "* vert (list[int]): the list of vertex IDs (integers).\n",
    "\n",
    "In addition, a read_filtration function in utils.py is available, which takes a filename (str) as input and returns a filtration represented as a list of simplices.\n",
    "\n",
    "An example of how to use read_filtration is given just below :"
   ]
  },
  {
   "cell_type": "code",
   "execution_count": 28,
   "id": "6284971c",
   "metadata": {},
   "outputs": [
    {
     "name": "stdout",
     "output_type": "stream",
     "text": [
      "{val=1.0; dim=0; [2]}\n",
      "{val=1.0; dim=0; [4]}\n",
      "{val=1.0; dim=0; [1]}\n",
      "{val=2.0; dim=1; [2, 4]}\n",
      "{val=2.0; dim=1; [1, 2]}\n",
      "{val=3.0; dim=0; [7]}\n",
      "{val=4.0; dim=1; [4, 7]}\n",
      "{val=4.0; dim=1; [1, 7]}\n",
      "{val=5.0; dim=1; [1, 4]}\n",
      "{val=6.0; dim=2; [1, 4, 7]}\n"
     ]
    },
    {
     "data": {
      "text/plain": [
       "simplex.Simplex"
      ]
     },
     "execution_count": 28,
     "metadata": {},
     "output_type": "execute_result"
    }
   ],
   "source": [
    "filtration = read_filtration(\"filtration.txt\")\n",
    "for simplex in filtration:\n",
    "    print(simplex)\n",
    "type(filtration[0])"
   ]
  },
  {
   "cell_type": "markdown",
   "id": "3e7894f1",
   "metadata": {},
   "source": [
    "To simplify our process, we've added a line in read_filtration, that outputs a time sorted filtration"
   ]
  },
  {
   "cell_type": "markdown",
   "id": "122368d2",
   "metadata": {},
   "source": [
    "## Question 1 - Boundary matrix"
   ]
  },
  {
   "cell_type": "markdown",
   "id": "0ba00b35",
   "metadata": {},
   "source": [
    "**Question 1**:Compute the boundary matrix B of the filtration from the vector of simplices F. "
   ]
  },
  {
   "cell_type": "code",
   "execution_count": 26,
   "id": "274da6f5",
   "metadata": {},
   "outputs": [
    {
     "ename": "TypeError",
     "evalue": "'Simplex' object is not subscriptable",
     "output_type": "error",
     "traceback": [
      "\u001b[31m---------------------------------------------------------------------------\u001b[39m",
      "\u001b[31mTypeError\u001b[39m                                 Traceback (most recent call last)",
      "\u001b[36mCell\u001b[39m\u001b[36m \u001b[39m\u001b[32mIn[26]\u001b[39m\u001b[32m, line 23\u001b[39m\n\u001b[32m     19\u001b[39m                     boundary[j].add(i)\n\u001b[32m     21\u001b[39m     \u001b[38;5;28;01mreturn\u001b[39;00m boundary\n\u001b[32m---> \u001b[39m\u001b[32m23\u001b[39m \u001b[38;5;28mprint\u001b[39m(\u001b[43mboundary_matrix\u001b[49m\u001b[43m(\u001b[49m\u001b[43mfiltration\u001b[49m\u001b[43m)\u001b[49m)\n",
      "\u001b[36mCell\u001b[39m\u001b[36m \u001b[39m\u001b[32mIn[26]\u001b[39m\u001b[32m, line 4\u001b[39m, in \u001b[36mboundary_matrix\u001b[39m\u001b[34m(filtration)\u001b[39m\n\u001b[32m      1\u001b[39m \u001b[38;5;28;01mdef\u001b[39;00m\u001b[38;5;250m \u001b[39m\u001b[34mboundary_matrix\u001b[39m(filtration: \u001b[38;5;28mlist\u001b[39m[\u001b[38;5;28mdict\u001b[39m]) -> \u001b[38;5;28mlist\u001b[39m[\u001b[38;5;28mlist\u001b[39m[\u001b[38;5;28mint\u001b[39m]]:\n\u001b[32m      2\u001b[39m \n\u001b[32m      3\u001b[39m     \u001b[38;5;66;03m# Dictionnaire : clé = frozenset(vertices), valeur = index dans la filtration\u001b[39;00m\n\u001b[32m----> \u001b[39m\u001b[32m4\u001b[39m     index_map = {\u001b[38;5;28mfrozenset\u001b[39m(\u001b[43ms\u001b[49m\u001b[43m[\u001b[49m\u001b[33;43m\"\u001b[39;49m\u001b[33;43mvert\u001b[39;49m\u001b[33;43m\"\u001b[39;49m\u001b[43m]\u001b[49m): i \u001b[38;5;28;01mfor\u001b[39;00m i, s \u001b[38;5;129;01min\u001b[39;00m \u001b[38;5;28menumerate\u001b[39m(filtration)}\n\u001b[32m      6\u001b[39m     n = \u001b[38;5;28mlen\u001b[39m(filtration)\n\u001b[32m      7\u001b[39m     boundary = [\u001b[38;5;28mset\u001b[39m() \u001b[38;5;28;01mfor\u001b[39;00m _ \u001b[38;5;129;01min\u001b[39;00m \u001b[38;5;28mrange\u001b[39m(n)]\n",
      "\u001b[31mTypeError\u001b[39m: 'Simplex' object is not subscriptable"
     ]
    }
   ],
   "source": [
    "def boundary_matrix(filtration: list[dict]) -> list[list[int]]:\n",
    "    \n",
    "    # Dictionnaire : clé = frozenset(vertices), valeur = index dans la filtration\n",
    "    index_map = {frozenset(s[\"vert\"]): i for i, s in enumerate(filtration)}\n",
    "\n",
    "    n = len(filtration)\n",
    "    boundary = [set() for _ in range(n)]\n",
    "\n",
    "    for j, simplex in tqdm(enumerate(filtration), desc=\"Computing boundary matrix\", total=n):\n",
    "        verts = simplex[\"vert\"]\n",
    "        dim = simplex[\"dim\"]\n",
    "\n",
    "        # Génération des faces en retirant un sommet\n",
    "        if dim > 0:\n",
    "            for v in verts:\n",
    "                face = frozenset(verts - {v})\n",
    "                i = index_map.get(face)\n",
    "                if i is not None:\n",
    "                    boundary[j].add(i)\n",
    "\n",
    "    return boundary\n",
    "\n",
    "print(boundary_matrix(filtration))"
   ]
  },
  {
   "cell_type": "markdown",
   "id": "96c4d2c2",
   "metadata": {},
   "source": [
    "## Questions 2 & 3 - Reduction algorithm"
   ]
  },
  {
   "cell_type": "markdown",
   "id": "41a23b10",
   "metadata": {},
   "source": [
    "**Question 2**  : Implement the reduction algorithm for your representation of the boundary matrix. Evaluate its complexity."
   ]
  },
  {
   "cell_type": "code",
   "execution_count": null,
   "id": "f9eb3d6b",
   "metadata": {},
   "outputs": [
    {
     "name": "stderr",
     "output_type": "stream",
     "text": [
      "Computing boundary matrix: 100%|██████████| 10/10 [00:00<00:00, 118483.16it/s]\n",
      "Reducing boundary matrix: 100%|██████████| 10/10 [00:00<00:00, 121927.44it/s]"
     ]
    },
    {
     "name": "stdout",
     "output_type": "stream",
     "text": [
      "[set(), set(), set(), {0, 1}, {0, 2}, set(), {1, 5}, set(), set(), {8, 6, 7}]\n"
     ]
    },
    {
     "name": "stderr",
     "output_type": "stream",
     "text": [
      "\n"
     ]
    }
   ],
   "source": [
    "def reduce_boundary_matrix(boundary : list[list[int]]) -> list[list[int]]:\n",
    "    \n",
    "    reduced_boundary = boundary.copy()\n",
    "    m = len(reduced_boundary)\n",
    "\n",
    "    pivots = {}\n",
    "\n",
    "    for j in tqdm(range(m), desc=\"Reducing boundary matrix\"):\n",
    "\n",
    "        low_j = max(reduced_boundary[j]) if reduced_boundary[j] else -1\n",
    "        while low_j != -1 and low_j in pivots:\n",
    "\n",
    "            i = pivots[low_j]\n",
    "\n",
    "            # Perform column addition (mod 2) : XOR\n",
    "            reduced_boundary[j] = set(reduced_boundary[j]) ^ set(reduced_boundary[i])\n",
    "            low_j = max(reduced_boundary[j]) if reduced_boundary[j] else -1\n",
    "\n",
    "            #Pour la démo, il faudra montrer que low_j est strictement décroissant \n",
    "\n",
    "        if low_j != -1:\n",
    "            pivots[low_j] = j\n",
    "\n",
    "    return reduced_boundary # à optimiser\n",
    "\n",
    "print(reduce_boundary_matrix(boundary_matrix(filtration)))"
   ]
  },
  {
   "cell_type": "markdown",
   "id": "2bbc53e4",
   "metadata": {},
   "source": [
    "**Question 3** Reduce the complexity of the reduction to O(m^3) in the worst case, and to O(m) in cases where the matrix remains sparse throughout, where m is the number of simplices in the filtration. Argue that your code does have the desired worst-case and best-case complexities."
   ]
  },
  {
   "cell_type": "markdown",
   "id": "06d4aac2",
   "metadata": {},
   "source": [
    "#TODO Il faudra écrire la démo de notre complexité ici (en particulier justifier que low_j est bien un monovariant de notre boucle while)"
   ]
  },
  {
   "cell_type": "markdown",
   "id": "219da3db",
   "metadata": {},
   "source": [
    "## Question 4 - Barcode extraction"
   ]
  },
  {
   "cell_type": "code",
   "execution_count": null,
   "id": "0c2b5e0f",
   "metadata": {},
   "outputs": [
    {
     "name": "stderr",
     "output_type": "stream",
     "text": [
      "Computing boundary matrix: 100%|██████████| 10/10 [00:00<00:00, 102801.57it/s]\n",
      "Reducing boundary matrix: 100%|██████████| 10/10 [00:00<00:00, 118149.41it/s]\n"
     ]
    },
    {
     "name": "stdout",
     "output_type": "stream",
     "text": [
      "Seen indexes: {1, 2, 3, 4, 5, 6, 8, 9}\n",
      "0 1.0 inf\n",
      "0 1.0 2.0\n",
      "0 1.0 2.0\n",
      "0 3.0 4.0\n",
      "1 4.0 inf\n",
      "1 5.0 6.0\n"
     ]
    },
    {
     "name": "stderr",
     "output_type": "stream",
     "text": [
      "Computing boundary matrix: 100%|██████████| 10/10 [00:00<00:00, 145635.56it/s]\n",
      "Reducing boundary matrix: 100%|██████████| 10/10 [00:00<00:00, 26214.40it/s]"
     ]
    },
    {
     "name": "stdout",
     "output_type": "stream",
     "text": [
      "Seen indexes: {1, 2, 3, 4, 5, 6, 8, 9}\n",
      "[(0, 0, -1), (0, 1, 3), (0, 2, 4), (0, 5, 6), (1, 7, -1), (1, 8, 9)]\n",
      "Execution time: 0.012145757675170898\n"
     ]
    },
    {
     "name": "stderr",
     "output_type": "stream",
     "text": [
      "\n"
     ]
    }
   ],
   "source": [
    "def extract_barcodes(reduced_boundary : list[list[int]], filtration : list[dict]) -> list[tuple[int, int, int]]:\n",
    "\n",
    "    seen_indexes = set()\n",
    "    barcodes = []\n",
    "\n",
    "    for j in range(len(reduced_boundary)):\n",
    "        if reduced_boundary[j]:\n",
    "            seen_indexes.add(j)\n",
    "            low_j = max(reduced_boundary[j])\n",
    "            seen_indexes.add(low_j)\n",
    "            barcode = (filtration[low_j][\"dim\"], low_j,j)  # (index, death index, dimension)\n",
    "            barcodes.append(barcode)\n",
    "\n",
    "    print(\"Seen indexes:\", seen_indexes)\n",
    "    unseen_indexes = set(range(len(filtration))) - seen_indexes\n",
    "    for i in unseen_indexes:\n",
    "        barcode = (filtration[i][\"dim\"], i, -1)  # (index, death index = ∞, dimension)\n",
    "        barcodes.append(barcode)\n",
    "\n",
    "    barcodes.sort(key=lambda x: (x[0], x[1], x[2] if x[2] != -1 else float('inf')))  # Sort by (dimension, birth index)\n",
    "    return barcodes\n",
    "\n",
    "\n",
    "def print_barcodes(barcodes : list[tuple[int, int, int]], filtration : list[dict]) -> None:\n",
    "    for (dim, birth_idx, death_idx) in barcodes:\n",
    "        birth_time = filtration[birth_idx][\"time\"]\n",
    "        death_time = filtration[death_idx][\"time\"] if death_idx != -1 else float('inf')\n",
    "        print(f\"{dim} {birth_time} {death_time}\")\n",
    "\n",
    "time_start = time.time()\n",
    "print_barcodes(extract_barcodes(reduce_boundary_matrix(boundary_matrix(filtration)), filtration), filtration)\n",
    "print(extract_barcodes(reduce_boundary_matrix(boundary_matrix(filtration)), filtration))\n",
    "time_end = time.time()\n",
    "print(\"Execution time:\", time_end - time_start)"
   ]
  },
  {
   "cell_type": "markdown",
   "id": "023a6876",
   "metadata": {},
   "source": [
    "## Question 5 - Complexity analysis"
   ]
  },
  {
   "cell_type": "code",
   "execution_count": null,
   "id": "ac4a8be8",
   "metadata": {},
   "outputs": [
    {
     "ename": "KeyboardInterrupt",
     "evalue": "",
     "output_type": "error",
     "traceback": [
      "\u001b[31m---------------------------------------------------------------------------\u001b[39m",
      "\u001b[31mKeyboardInterrupt\u001b[39m                         Traceback (most recent call last)",
      "\u001b[36mCell\u001b[39m\u001b[36m \u001b[39m\u001b[32mIn[10]\u001b[39m\u001b[32m, line 2\u001b[39m\n\u001b[32m      1\u001b[39m \u001b[38;5;66;03m## Question 5 - Complexity analysis\u001b[39;00m\n\u001b[32m----> \u001b[39m\u001b[32m2\u001b[39m filtration_a = \u001b[43mread_filtration\u001b[49m\u001b[43m(\u001b[49m\u001b[33;43m\"\u001b[39;49m\u001b[33;43mfiltrations/filtration_A.txt\u001b[39;49m\u001b[33;43m\"\u001b[39;49m\u001b[43m)\u001b[49m\n\u001b[32m      3\u001b[39m \u001b[38;5;28mprint\u001b[39m(\u001b[33m\"\u001b[39m\u001b[33mFiltration initialization\u001b[39m\u001b[33m\"\u001b[39m)\n\u001b[32m      4\u001b[39m B = boundary_matrix(filtration_a)\n",
      "\u001b[36mFile \u001b[39m\u001b[32m/workspaces/TD4---TDA/utils.py:12\u001b[39m, in \u001b[36mread_filtration\u001b[39m\u001b[34m(filename)\u001b[39m\n\u001b[32m     10\u001b[39m         tokens.extend(line.strip().split())\n\u001b[32m     11\u001b[39m     \u001b[38;5;28;01mwhile\u001b[39;00m tokens:\n\u001b[32m---> \u001b[39m\u001b[32m12\u001b[39m         filtration.append(\u001b[43mSimplex\u001b[49m\u001b[43m(\u001b[49m\u001b[43mtokens\u001b[49m\u001b[43m)\u001b[49m)\n\u001b[32m     14\u001b[39m     filtration.sort(key=\u001b[38;5;28;01mlambda\u001b[39;00m s: s.val)\n\u001b[32m     15\u001b[39m \u001b[38;5;28;01mreturn\u001b[39;00m filtration\n",
      "\u001b[36mFile \u001b[39m\u001b[32m/workspaces/TD4---TDA/simplex.py:6\u001b[39m, in \u001b[36mSimplex.__init__\u001b[39m\u001b[34m(self, tokens)\u001b[39m\n\u001b[32m      4\u001b[39m \u001b[38;5;28;01mdef\u001b[39;00m\u001b[38;5;250m \u001b[39m\u001b[34m__init__\u001b[39m(\u001b[38;5;28mself\u001b[39m, tokens):\n\u001b[32m      5\u001b[39m     \u001b[38;5;28mself\u001b[39m.val = \u001b[38;5;28mfloat\u001b[39m(tokens.pop(\u001b[32m0\u001b[39m))\n\u001b[32m----> \u001b[39m\u001b[32m6\u001b[39m     \u001b[38;5;28mself\u001b[39m.dim = \u001b[38;5;28mint\u001b[39m(\u001b[43mtokens\u001b[49m\u001b[43m.\u001b[49m\u001b[43mpop\u001b[49m\u001b[43m(\u001b[49m\u001b[32;43m0\u001b[39;49m\u001b[43m)\u001b[49m)\n\u001b[32m      7\u001b[39m     \u001b[38;5;28mself\u001b[39m.vert = \u001b[38;5;28mset\u001b[39m(\u001b[38;5;28mint\u001b[39m(tokens.pop(\u001b[32m0\u001b[39m)) \u001b[38;5;28;01mfor\u001b[39;00m _ \u001b[38;5;129;01min\u001b[39;00m \u001b[38;5;28mrange\u001b[39m(\u001b[38;5;28mself\u001b[39m.dim + \u001b[32m1\u001b[39m))\n",
      "\u001b[31mKeyboardInterrupt\u001b[39m: "
     ]
    }
   ],
   "source": [
    "## Question 5 - Complexity analysis\n",
    "filtration_a = read_filtration(\"filtrations/filtration_A.txt\")\n",
    "print(\"Filtration initialization\")\n",
    "B = boundary_matrix(filtration_a)\n",
    "print(\"Boundary matrix computed.\")\n",
    "print_barcodes(extract_barcodes(reduce_boundary_matrix(B), filtration_a), filtration_a)"
   ]
  },
  {
   "cell_type": "markdown",
   "id": "9fab8cb3",
   "metadata": {},
   "source": [
    "## TODO list\n"
   ]
  },
  {
   "cell_type": "code",
   "execution_count": null,
   "id": "405cf647",
   "metadata": {},
   "outputs": [],
   "source": [
    "# TODO : report, answer questions, complexity analysis, plots, analysis of graphs, 2 3 pages. \n",
    "# >>> jupyter notebook"
   ]
  },
  {
   "cell_type": "code",
   "execution_count": null,
   "id": "5c9c11ce",
   "metadata": {},
   "outputs": [],
   "source": []
  }
 ],
 "metadata": {
  "kernelspec": {
   "display_name": "Python 3",
   "language": "python",
   "name": "python3"
  },
  "language_info": {
   "codemirror_mode": {
    "name": "ipython",
    "version": 3
   },
   "file_extension": ".py",
   "mimetype": "text/x-python",
   "name": "python",
   "nbconvert_exporter": "python",
   "pygments_lexer": "ipython3",
   "version": "3.12.1"
  }
 },
 "nbformat": 4,
 "nbformat_minor": 5
}
