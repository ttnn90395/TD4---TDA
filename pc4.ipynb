{
 "cells": [
  {
   "cell_type": "markdown",
   "id": "051f74f2",
   "metadata": {},
   "source": [
    "# TD 4 - Topological Persistence\n"
   ]
  },
  {
   "cell_type": "markdown",
   "id": "068170ee",
   "metadata": {},
   "source": [
    "*by Joseph DE ROFFIGNAC and Ten NGUYEN HANAOKA* "
   ]
  },
  {
   "cell_type": "markdown",
   "id": "c67dd0b6",
   "metadata": {},
   "source": [
    "The purpose of this notebook is to address all the exercises from Lab Session 4 (INF556 – TD4), which focuses on implementing an algorithm to compute persistent homology with coefficients in the field ℤ/2ℤ (also denoted ℤ₂), and on testing it across various filtrations."
   ]
  },
  {
   "cell_type": "markdown",
   "id": "efff3889",
   "metadata": {},
   "source": [
    "### Let's start with some imports !"
   ]
  },
  {
   "cell_type": "code",
   "execution_count": 1,
   "id": "46d193d0",
   "metadata": {},
   "outputs": [
    {
     "name": "stdout",
     "output_type": "stream",
     "text": [
      "Requirement already satisfied: tqdm in /usr/local/python/3.12.1/lib/python3.12/site-packages (4.67.1)\n",
      "\n",
      "\u001b[1m[\u001b[0m\u001b[34;49mnotice\u001b[0m\u001b[1;39;49m]\u001b[0m\u001b[39;49m A new release of pip is available: \u001b[0m\u001b[31;49m25.1.1\u001b[0m\u001b[39;49m -> \u001b[0m\u001b[32;49m25.2\u001b[0m\n",
      "\u001b[1m[\u001b[0m\u001b[34;49mnotice\u001b[0m\u001b[1;39;49m]\u001b[0m\u001b[39;49m To update, run: \u001b[0m\u001b[32;49mpython -m pip install --upgrade pip\u001b[0m\n",
      "Note: you may need to restart the kernel to use updated packages.\n"
     ]
    }
   ],
   "source": [
    "%pip install tqdm"
   ]
  },
  {
   "cell_type": "code",
   "execution_count": 2,
   "id": "f4a898ca",
   "metadata": {},
   "outputs": [
    {
     "name": "stdout",
     "output_type": "stream",
     "text": [
      "{'time': 1.0, 'dim': 0, 'vert': {2}}\n",
      "{'time': 1.0, 'dim': 0, 'vert': {4}}\n",
      "{'time': 1.0, 'dim': 0, 'vert': {1}}\n",
      "{'time': 2.0, 'dim': 1, 'vert': {2, 4}}\n",
      "{'time': 2.0, 'dim': 1, 'vert': {1, 2}}\n",
      "{'time': 3.0, 'dim': 0, 'vert': {7}}\n",
      "{'time': 4.0, 'dim': 1, 'vert': {4, 7}}\n",
      "{'time': 4.0, 'dim': 1, 'vert': {1, 7}}\n",
      "{'time': 5.0, 'dim': 1, 'vert': {1, 4}}\n",
      "{'time': 6.0, 'dim': 2, 'vert': {1, 4, 7}}\n"
     ]
    }
   ],
   "source": [
    "import sys\n",
    "import time\n",
    "from tqdm import tqdm\n",
    "from utils import read_filtration"
   ]
  },
  {
   "cell_type": "markdown",
   "id": "fe950973",
   "metadata": {},
   "source": [
    "We are provided with a Simplex class (see simplex.py for more details) that contains three attributes:\n",
    "* val (float): the time of appearance in the filtration,\n",
    "* dim (int): the dimension,\n",
    "* vert (list[int]): the list of vertex IDs (integers).\n",
    "\n",
    "In addition, a read_filtration function in utils.py is available, which takes a filename (str) as input and returns a filtration represented as a list of simplices.\n",
    "\n",
    "An example of how to use read_filtration is given just below :"
   ]
  },
  {
   "cell_type": "code",
   "execution_count": 3,
   "id": "6284971c",
   "metadata": {},
   "outputs": [
    {
     "name": "stdout",
     "output_type": "stream",
     "text": [
      "{'time': 1.0, 'dim': 0, 'vert': {2}}\n",
      "{'time': 1.0, 'dim': 0, 'vert': {4}}\n",
      "{'time': 1.0, 'dim': 0, 'vert': {1}}\n",
      "{'time': 2.0, 'dim': 1, 'vert': {2, 4}}\n",
      "{'time': 2.0, 'dim': 1, 'vert': {1, 2}}\n",
      "{'time': 3.0, 'dim': 0, 'vert': {7}}\n",
      "{'time': 4.0, 'dim': 1, 'vert': {4, 7}}\n",
      "{'time': 4.0, 'dim': 1, 'vert': {1, 7}}\n",
      "{'time': 5.0, 'dim': 1, 'vert': {1, 4}}\n",
      "{'time': 6.0, 'dim': 2, 'vert': {1, 4, 7}}\n"
     ]
    },
    {
     "data": {
      "text/plain": [
       "dict"
      ]
     },
     "execution_count": 3,
     "metadata": {},
     "output_type": "execute_result"
    }
   ],
   "source": [
    "filtration = read_filtration(\"filtration.txt\")\n",
    "for simplex in filtration:\n",
    "    print(simplex)\n",
    "type(filtration[0])"
   ]
  },
  {
   "cell_type": "markdown",
   "id": "3e7894f1",
   "metadata": {},
   "source": [
    "To simplify our process, we've added a line in read_filtration, that outputs a time sorted filtration"
   ]
  },
  {
   "cell_type": "markdown",
   "id": "122368d2",
   "metadata": {},
   "source": [
    "## Question 1 - Boundary matrix"
   ]
  },
  {
   "cell_type": "markdown",
   "id": "0ba00b35",
   "metadata": {},
   "source": [
    "**Question 1**:Compute the boundary matrix B of the filtration from the vector of simplices F. "
   ]
  },
  {
   "cell_type": "code",
   "execution_count": 4,
   "id": "274da6f5",
   "metadata": {},
   "outputs": [
    {
     "name": "stderr",
     "output_type": "stream",
     "text": [
      "Computing boundary matrix: 100%|██████████| 10/10 [00:00<00:00, 96642.95it/s]"
     ]
    },
    {
     "name": "stdout",
     "output_type": "stream",
     "text": [
      "[set(), set(), set(), {0, 1}, {0, 2}, set(), {1, 5}, {2, 5}, {1, 2}, {8, 6, 7}]\n"
     ]
    },
    {
     "name": "stderr",
     "output_type": "stream",
     "text": [
      "\n"
     ]
    }
   ],
   "source": [
    "def boundary_matrix(filtration: list[dict]) -> list[list[int]]:\n",
    "    \n",
    "    # Dictionnaire : clé = frozenset(vertices), valeur = index dans la filtration\n",
    "    index_map = {frozenset(s[\"vert\"]): i for i, s in enumerate(filtration)}\n",
    "\n",
    "    n = len(filtration)\n",
    "    boundary = [set() for _ in range(n)]\n",
    "\n",
    "    for j, simplex in tqdm(enumerate(filtration), desc=\"Computing boundary matrix\", total=n):\n",
    "        verts = simplex[\"vert\"]\n",
    "        dim = simplex[\"dim\"]\n",
    "\n",
    "        # Génération des faces en retirant un sommet\n",
    "        if dim > 0:\n",
    "            for v in verts:\n",
    "                face = frozenset(verts - {v})\n",
    "                i = index_map.get(face)\n",
    "                if i is not None:\n",
    "                    boundary[j].add(i)\n",
    "\n",
    "    return boundary\n",
    "\n",
    "print(boundary_matrix(filtration))"
   ]
  },
  {
   "cell_type": "markdown",
   "id": "96c4d2c2",
   "metadata": {},
   "source": [
    "## Questions 2 & 3 - Reduction algorithm"
   ]
  },
  {
   "cell_type": "markdown",
   "id": "41a23b10",
   "metadata": {},
   "source": [
    "**Question 2**  : Implement the reduction algorithm for your representation of the boundary matrix. Evaluate its complexity."
   ]
  },
  {
   "cell_type": "code",
   "execution_count": 5,
   "id": "f9eb3d6b",
   "metadata": {},
   "outputs": [],
   "source": [
    "from tqdm import tqdm\n",
    "\n",
    "def xor_sorted_lists(a: list[int], b: list[int]) -> list[int]:\n",
    "    \"\"\"Return the XOR (symmetric difference) of two sorted lists.\"\"\"\n",
    "    result = []\n",
    "    i = j = 0\n",
    "    while i < len(a) and j < len(b):\n",
    "        if a[i] < b[j]:\n",
    "            result.append(a[i])\n",
    "            i += 1\n",
    "        elif a[i] > b[j]:\n",
    "            result.append(b[j])\n",
    "            j += 1\n",
    "        else:  \n",
    "            i += 1\n",
    "            j += 1\n",
    "    result.extend(a[i:])\n",
    "    result.extend(b[j:])\n",
    "    return result\n",
    "\n",
    "def reduce_boundary_matrix(boundary: list[list[int]]) -> list[list[int]]:\n",
    "    reduced_boundary = [sorted(col) for col in boundary]\n",
    "    m = len(reduced_boundary)\n",
    "    pivots = {}\n",
    "\n",
    "    for j in tqdm(range(m), desc=\"Reducing boundary matrix\"):\n",
    "        col = reduced_boundary[j]\n",
    "\n",
    "        while col and col[-1] in pivots:\n",
    "            i = pivots[col[-1]]\n",
    "            col = xor_sorted_lists(col, reduced_boundary[i])\n",
    "            reduced_boundary[j] = col  \n",
    "\n",
    "        if col:\n",
    "            pivots[col[-1]] = j\n",
    "\n",
    "    return reduced_boundary\n"
   ]
  },
  {
   "cell_type": "markdown",
   "id": "2bbc53e4",
   "metadata": {},
   "source": [
    "**Question 3** Reduce the complexity of the reduction to O(m^3) in the worst case, and to O(m) in cases where the matrix remains sparse throughout, where m is the number of simplices in the filtration. Argue that your code does have the desired worst-case and best-case complexities."
   ]
  },
  {
   "cell_type": "markdown",
   "id": "06d4aac2",
   "metadata": {},
   "source": [
    "#TODO Il faudra écrire la démo de notre complexité ici (en particulier justifier que low_j est bien un monovariant de notre boucle while)"
   ]
  },
  {
   "cell_type": "markdown",
   "id": "219da3db",
   "metadata": {},
   "source": [
    "## Question 4 - Barcode extraction"
   ]
  },
  {
   "cell_type": "code",
   "execution_count": 6,
   "id": "0c2b5e0f",
   "metadata": {},
   "outputs": [
    {
     "name": "stderr",
     "output_type": "stream",
     "text": [
      "Computing boundary matrix: 100%|██████████| 10/10 [00:00<00:00, 110960.42it/s]\n",
      "Reducing boundary matrix: 100%|██████████| 10/10 [00:00<00:00, 123361.88it/s]\n"
     ]
    },
    {
     "name": "stdout",
     "output_type": "stream",
     "text": [
      "Seen indexes: {1, 2, 3, 4, 5, 6, 8, 9}\n",
      "0 1.0 inf\n",
      "0 1.0 2.0\n",
      "0 1.0 2.0\n",
      "0 3.0 4.0\n",
      "1 4.0 inf\n",
      "1 5.0 6.0\n"
     ]
    },
    {
     "name": "stderr",
     "output_type": "stream",
     "text": [
      "Computing boundary matrix: 100%|██████████| 10/10 [00:00<00:00, 133152.51it/s]\n",
      "Reducing boundary matrix: 100%|██████████| 10/10 [00:00<00:00, 116832.98it/s]"
     ]
    },
    {
     "name": "stdout",
     "output_type": "stream",
     "text": [
      "Seen indexes: {1, 2, 3, 4, 5, 6, 8, 9}\n",
      "[(0, 0, -1), (0, 1, 3), (0, 2, 4), (0, 5, 6), (1, 7, -1), (1, 8, 9)]\n",
      "Execution time: 0.009884357452392578\n"
     ]
    },
    {
     "name": "stderr",
     "output_type": "stream",
     "text": [
      "\n"
     ]
    }
   ],
   "source": [
    "def extract_barcodes(reduced_boundary : list[list[int]], filtration : list[dict]) -> list[tuple[int, int, int]]:\n",
    "\n",
    "    seen_indexes = set()\n",
    "    barcodes = []\n",
    "\n",
    "    for j in range(len(reduced_boundary)):\n",
    "        if reduced_boundary[j]:\n",
    "            seen_indexes.add(j)\n",
    "            low_j = max(reduced_boundary[j])\n",
    "            seen_indexes.add(low_j)\n",
    "            barcode = (filtration[low_j][\"dim\"], low_j,j)  # (index, death index, dimension)\n",
    "            barcodes.append(barcode)\n",
    "\n",
    "    print(\"Seen indexes:\", seen_indexes)\n",
    "    unseen_indexes = set(range(len(filtration))) - seen_indexes\n",
    "    for i in unseen_indexes:\n",
    "        barcode = (filtration[i][\"dim\"], i, -1)  # (index, death index = ∞, dimension)\n",
    "        barcodes.append(barcode)\n",
    "\n",
    "    barcodes.sort(key=lambda x: (x[0], x[1], x[2] if x[2] != -1 else float('inf')))  # Sort by (dimension, birth index)\n",
    "    return barcodes\n",
    "\n",
    "\n",
    "def print_barcodes(barcodes : list[tuple[int, int, int]], filtration : list[dict]) -> None:\n",
    "    for (dim, birth_idx, death_idx) in barcodes:\n",
    "        birth_time = filtration[birth_idx][\"time\"]\n",
    "        death_time = filtration[death_idx][\"time\"] if death_idx != -1 else float('inf')\n",
    "        print(f\"{dim} {birth_time} {death_time}\")\n",
    "\n",
    "time_start = time.time()\n",
    "print_barcodes(extract_barcodes(reduce_boundary_matrix(boundary_matrix(filtration)), filtration), filtration)\n",
    "print(extract_barcodes(reduce_boundary_matrix(boundary_matrix(filtration)), filtration))\n",
    "time_end = time.time()\n",
    "print(\"Execution time:\", time_end - time_start)"
   ]
  },
  {
   "cell_type": "markdown",
   "id": "023a6876",
   "metadata": {},
   "source": [
    "## Question 5 - Complexity analysis"
   ]
  },
  {
   "cell_type": "code",
   "execution_count": null,
   "id": "ac4a8be8",
   "metadata": {},
   "outputs": [
    {
     "name": "stdout",
     "output_type": "stream",
     "text": [
      "Filtration initialization\n"
     ]
    },
    {
     "name": "stderr",
     "output_type": "stream",
     "text": [
      "Computing boundary matrix: 100%|██████████| 428643/428643 [00:01<00:00, 320445.88it/s]\n"
     ]
    },
    {
     "name": "stdout",
     "output_type": "stream",
     "text": [
      "Boundary matrix computed.\n"
     ]
    },
    {
     "name": "stderr",
     "output_type": "stream",
     "text": [
      "Reducing boundary matrix:  83%|████████▎ | 353658/428643 [02:34<01:28, 849.99it/s]   "
     ]
    }
   ],
   "source": [
    "## Question 5 - Complexity analysis\n",
    "filtration_a = read_filtration(\"filtrations/filtration_A.txt\")\n",
    "print(\"Filtration initialization\")\n",
    "B = boundary_matrix(filtration_a)\n",
    "print(\"Boundary matrix computed.\")\n",
    "print_barcodes(extract_barcodes(reduce_boundary_matrix(B), filtration_a), filtration_a)"
   ]
  },
  {
   "cell_type": "markdown",
   "id": "9fab8cb3",
   "metadata": {},
   "source": [
    "## TODO list\n"
   ]
  },
  {
   "cell_type": "code",
   "execution_count": null,
   "id": "405cf647",
   "metadata": {},
   "outputs": [],
   "source": [
    "# TODO : report, answer questions, complexity analysis, plots, analysis of graphs, 2 3 pages. \n",
    "# >>> jupyter notebook"
   ]
  },
  {
   "cell_type": "code",
   "execution_count": null,
   "id": "5c9c11ce",
   "metadata": {},
   "outputs": [],
   "source": []
  }
 ],
 "metadata": {
  "kernelspec": {
   "display_name": "Python 3",
   "language": "python",
   "name": "python3"
  },
  "language_info": {
   "codemirror_mode": {
    "name": "ipython",
    "version": 3
   },
   "file_extension": ".py",
   "mimetype": "text/x-python",
   "name": "python",
   "nbconvert_exporter": "python",
   "pygments_lexer": "ipython3",
   "version": "3.12.1"
  }
 },
 "nbformat": 4,
 "nbformat_minor": 5
}
